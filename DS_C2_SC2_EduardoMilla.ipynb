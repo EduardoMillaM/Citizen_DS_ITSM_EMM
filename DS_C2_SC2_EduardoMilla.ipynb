{
  "nbformat": 4,
  "nbformat_minor": 0,
  "metadata": {
    "colab": {
      "provenance": [],
      "authorship_tag": "ABX9TyPG28M67+E7N978rEe0xJtE",
      "include_colab_link": true
    },
    "kernelspec": {
      "name": "python3",
      "display_name": "Python 3"
    },
    "language_info": {
      "name": "python"
    }
  },
  "cells": [
    {
      "cell_type": "markdown",
      "metadata": {
        "id": "view-in-github",
        "colab_type": "text"
      },
      "source": [
        "<a href=\"https://colab.research.google.com/github/EduardoMillaM/Citizen_DS_ITSM_EMM/blob/main/DS_C2_SC2_EduardoMilla.ipynb\" target=\"_parent\"><img src=\"https://colab.research.google.com/assets/colab-badge.svg\" alt=\"Open In Colab\"/></a>"
      ]
    },
    {
      "cell_type": "code",
      "source": [
        "import pandas as pd"
      ],
      "metadata": {
        "id": "N4JEMIFv1_rD"
      },
      "execution_count": 3,
      "outputs": []
    },
    {
      "cell_type": "code",
      "source": [
        "# a. b. Se carga el archivo, se pide el tipo de datos y se abren las primeras\n",
        "# filas para identificar las columnas con fechas.\n",
        "vacunas = pd.read_csv('/content/0.8ddpr74xw650.udno6l076vcountry_vaccinations.csv')\n",
        "print(vacunas.head())"
      ],
      "metadata": {
        "colab": {
          "base_uri": "https://localhost:8080/"
        },
        "id": "W4IjzslX2Nsd",
        "outputId": "74aa2180-005e-475d-c537-e402779203eb"
      },
      "execution_count": 4,
      "outputs": [
        {
          "output_type": "stream",
          "name": "stdout",
          "text": [
            "       country iso_code        date  total_vaccinations  people_vaccinated  \\\n",
            "0  Afghanistan      AFG  2021-02-22                 0.0                0.0   \n",
            "1  Afghanistan      AFG  2021-02-23                 NaN                NaN   \n",
            "2  Afghanistan      AFG  2021-02-24                 NaN                NaN   \n",
            "3  Afghanistan      AFG  2021-02-25                 NaN                NaN   \n",
            "4  Afghanistan      AFG  2021-02-26                 NaN                NaN   \n",
            "\n",
            "   people_fully_vaccinated  daily_vaccinations_raw  daily_vaccinations  \\\n",
            "0                      NaN                     NaN                 NaN   \n",
            "1                      NaN                     NaN              1367.0   \n",
            "2                      NaN                     NaN              1367.0   \n",
            "3                      NaN                     NaN              1367.0   \n",
            "4                      NaN                     NaN              1367.0   \n",
            "\n",
            "   total_vaccinations_per_hundred  people_vaccinated_per_hundred  \\\n",
            "0                             0.0                            0.0   \n",
            "1                             NaN                            NaN   \n",
            "2                             NaN                            NaN   \n",
            "3                             NaN                            NaN   \n",
            "4                             NaN                            NaN   \n",
            "\n",
            "   people_fully_vaccinated_per_hundred  daily_vaccinations_per_million  \\\n",
            "0                                  NaN                             NaN   \n",
            "1                                  NaN                            34.0   \n",
            "2                                  NaN                            34.0   \n",
            "3                                  NaN                            34.0   \n",
            "4                                  NaN                            34.0   \n",
            "\n",
            "                                            vaccines  \\\n",
            "0  Johnson&Johnson, Oxford/AstraZeneca, Pfizer/Bi...   \n",
            "1  Johnson&Johnson, Oxford/AstraZeneca, Pfizer/Bi...   \n",
            "2  Johnson&Johnson, Oxford/AstraZeneca, Pfizer/Bi...   \n",
            "3  Johnson&Johnson, Oxford/AstraZeneca, Pfizer/Bi...   \n",
            "4  Johnson&Johnson, Oxford/AstraZeneca, Pfizer/Bi...   \n",
            "\n",
            "                 source_name            source_website  \n",
            "0  World Health Organization  https://covid19.who.int/  \n",
            "1  World Health Organization  https://covid19.who.int/  \n",
            "2  World Health Organization  https://covid19.who.int/  \n",
            "3  World Health Organization  https://covid19.who.int/  \n",
            "4  World Health Organization  https://covid19.who.int/  \n"
          ]
        }
      ]
    },
    {
      "cell_type": "code",
      "source": [
        "print(vacunas.info())"
      ],
      "metadata": {
        "colab": {
          "base_uri": "https://localhost:8080/"
        },
        "id": "ofJQTJ7M3mg5",
        "outputId": "de01d364-c44c-4ac4-9c4b-a2624be74fa0"
      },
      "execution_count": 5,
      "outputs": [
        {
          "output_type": "stream",
          "name": "stdout",
          "text": [
            "<class 'pandas.core.frame.DataFrame'>\n",
            "RangeIndex: 86512 entries, 0 to 86511\n",
            "Data columns (total 15 columns):\n",
            " #   Column                               Non-Null Count  Dtype  \n",
            "---  ------                               --------------  -----  \n",
            " 0   country                              86512 non-null  object \n",
            " 1   iso_code                             86512 non-null  object \n",
            " 2   date                                 86512 non-null  object \n",
            " 3   total_vaccinations                   43607 non-null  float64\n",
            " 4   people_vaccinated                    41294 non-null  float64\n",
            " 5   people_fully_vaccinated              38802 non-null  float64\n",
            " 6   daily_vaccinations_raw               35362 non-null  float64\n",
            " 7   daily_vaccinations                   86213 non-null  float64\n",
            " 8   total_vaccinations_per_hundred       43607 non-null  float64\n",
            " 9   people_vaccinated_per_hundred        41294 non-null  float64\n",
            " 10  people_fully_vaccinated_per_hundred  38802 non-null  float64\n",
            " 11  daily_vaccinations_per_million       86213 non-null  float64\n",
            " 12  vaccines                             86512 non-null  object \n",
            " 13  source_name                          86512 non-null  object \n",
            " 14  source_website                       86512 non-null  object \n",
            "dtypes: float64(9), object(6)\n",
            "memory usage: 9.9+ MB\n",
            "None\n"
          ]
        }
      ]
    },
    {
      "cell_type": "code",
      "source": [
        "# b. Se convierte la columna 'date' a 'datetime64'\n",
        "vacunas['date'] = pd.to_datetime(vacunas['date'])\n",
        "print(vacunas.info())"
      ],
      "metadata": {
        "colab": {
          "base_uri": "https://localhost:8080/"
        },
        "id": "NSuJ8sZR3tlr",
        "outputId": "94949eb5-1bc1-4992-9cb3-959d3b8bdf94"
      },
      "execution_count": 6,
      "outputs": [
        {
          "output_type": "stream",
          "name": "stdout",
          "text": [
            "<class 'pandas.core.frame.DataFrame'>\n",
            "RangeIndex: 86512 entries, 0 to 86511\n",
            "Data columns (total 15 columns):\n",
            " #   Column                               Non-Null Count  Dtype         \n",
            "---  ------                               --------------  -----         \n",
            " 0   country                              86512 non-null  object        \n",
            " 1   iso_code                             86512 non-null  object        \n",
            " 2   date                                 86512 non-null  datetime64[ns]\n",
            " 3   total_vaccinations                   43607 non-null  float64       \n",
            " 4   people_vaccinated                    41294 non-null  float64       \n",
            " 5   people_fully_vaccinated              38802 non-null  float64       \n",
            " 6   daily_vaccinations_raw               35362 non-null  float64       \n",
            " 7   daily_vaccinations                   86213 non-null  float64       \n",
            " 8   total_vaccinations_per_hundred       43607 non-null  float64       \n",
            " 9   people_vaccinated_per_hundred        41294 non-null  float64       \n",
            " 10  people_fully_vaccinated_per_hundred  38802 non-null  float64       \n",
            " 11  daily_vaccinations_per_million       86213 non-null  float64       \n",
            " 12  vaccines                             86512 non-null  object        \n",
            " 13  source_name                          86512 non-null  object        \n",
            " 14  source_website                       86512 non-null  object        \n",
            "dtypes: datetime64[ns](1), float64(9), object(5)\n",
            "memory usage: 9.9+ MB\n",
            "None\n"
          ]
        }
      ]
    },
    {
      "cell_type": "code",
      "source": [
        "# c. Determinar la cantidad de vacunas aplicadas de cada compania\n",
        "vacunas_compania = vacunas.groupby('vaccines')['total_vaccinations'].sum()\n",
        "print(vacunas_compania)"
      ],
      "metadata": {
        "colab": {
          "base_uri": "https://localhost:8080/"
        },
        "id": "r_Umq7nC66Wl",
        "outputId": "e0f18ef0-8d4b-46e7-c9a6-34121e242cd8"
      },
      "execution_count": 7,
      "outputs": [
        {
          "output_type": "stream",
          "name": "stdout",
          "text": [
            "vaccines\n",
            "Abdala, Johnson&Johnson, Oxford/AstraZeneca, Pfizer/BioNTech, Soberana02, Sputnik Light, Sputnik V                            1.784348e+08\n",
            "Abdala, Moderna, Oxford/AstraZeneca, Pfizer/BioNTech, Sinopharm/Beijing, Sputnik V                                            1.791450e+10\n",
            "Abdala, Sinopharm/Beijing, Sinovac, Soberana02, Sputnik Light, Sputnik V                                                      4.228568e+08\n",
            "Abdala, Soberana Plus, Soberana02                                                                                             6.405166e+09\n",
            "COVIran Barekat, Covaxin, FAKHRAVAC, Oxford/AstraZeneca, Razi Cov Pars, Sinopharm/Beijing, Soberana02, SpikoGen, Sputnik V    1.069480e+10\n",
            "                                                                                                                                  ...     \n",
            "Pfizer/BioNTech, Sinovac, Turkovac                                                                                            3.392310e+10\n",
            "Pfizer/BioNTech, Sputnik V                                                                                                    3.863380e+06\n",
            "QazVac, Sinopharm/Beijing, Sputnik V                                                                                          3.585429e+09\n",
            "Sinopharm/Beijing                                                                                                             3.080671e+07\n",
            "Sinopharm/Beijing, Sputnik V                                                                                                  6.451243e+08\n",
            "Name: total_vaccinations, Length: 84, dtype: float64\n"
          ]
        }
      ]
    },
    {
      "cell_type": "code",
      "source": [
        "# d. Obtener la cantidad de vacunas aplicdas en todo el mundo\n",
        "vacunas_mundo = vacunas['total_vaccinations'].sum()\n",
        "print(f\"La cantidad de vacunas aplicadas en todo el mundo es: {vacunas_mundo:,.0f}\")"
      ],
      "metadata": {
        "colab": {
          "base_uri": "https://localhost:8080/"
        },
        "id": "ETfLnKY82nOJ",
        "outputId": "6345bd12-edf8-401b-e668-ca49bbe26f8e"
      },
      "execution_count": 9,
      "outputs": [
        {
          "output_type": "stream",
          "name": "stdout",
          "text": [
            "La cantidad de vacunas aplicadas en todo el mundo es: 2,002,854,013,761\n"
          ]
        }
      ]
    },
    {
      "cell_type": "code",
      "source": [
        "# e. Calcular el promedio de vacunas aplicadas por pais\n",
        "vacunas_pais = vacunas.groupby('country')['total_vaccinations'].mean()\n",
        "print(f\"El promedio de vacunas aplicadas por pais es: \\n{vacunas_pais}\")"
      ],
      "metadata": {
        "colab": {
          "base_uri": "https://localhost:8080/"
        },
        "id": "oSkFkemB4SX5",
        "outputId": "a58b6cfb-7125-4a2c-bbd5-dee0bf0f5cd6"
      },
      "execution_count": 12,
      "outputs": [
        {
          "output_type": "stream",
          "name": "stdout",
          "text": [
            "El promedio de vacunas aplicadas por pais es: \n",
            "country\n",
            "Afghanistan          2.566118e+06\n",
            "Albania              1.191695e+06\n",
            "Algeria              9.956086e+06\n",
            "Andorra              5.827721e+04\n",
            "Angola               6.074066e+06\n",
            "                         ...     \n",
            "Wales                4.132861e+06\n",
            "Wallis and Futuna    9.142925e+03\n",
            "Yemen                4.794049e+05\n",
            "Zambia               1.048484e+06\n",
            "Zimbabwe             4.181618e+06\n",
            "Name: total_vaccinations, Length: 223, dtype: float64\n"
          ]
        }
      ]
    },
    {
      "cell_type": "code",
      "source": [
        "# f. Determinar la cantidad de vacunas aplicadas el dia 29/01/21 en todo el\n",
        "# mundo\n",
        "vacunas_290121 = vacunas[vacunas['date'] == '2021-01-29']['total_vaccinations'].sum()\n",
        "print(f\"La cantidad de vacunas aplicadas el dia 29/01/21 en todo el mundo es: {vacunas_290121:,.0f}\")\n"
      ],
      "metadata": {
        "colab": {
          "base_uri": "https://localhost:8080/"
        },
        "id": "IAdqzfeU7reQ",
        "outputId": "3763b8ef-59d9-42bb-fb2b-05011dec632d"
      },
      "execution_count": 13,
      "outputs": [
        {
          "output_type": "stream",
          "name": "stdout",
          "text": [
            "La cantidad de vacunas aplicadas el dia 29/01/21 en todo el mundo es: 82,952,931\n"
          ]
        }
      ]
    },
    {
      "cell_type": "code",
      "source": [
        "# Crear un dataframe nuevo denominado conDiferencias que contenga los datos\n",
        "# originales y una coluna derivada (diferencias) con las diferencias de\n",
        "# aplicacion entre las columnas daily_vaccionatios y daily_vaccionations_raw\n",
        "conDiferencias = vacunas.copy()\n",
        "conDiferencias['diferencias'] = conDiferencias['daily_vaccinations'] - conDiferencias['daily_vaccinations_raw']\n",
        "print(conDiferencias.head())"
      ],
      "metadata": {
        "colab": {
          "base_uri": "https://localhost:8080/"
        },
        "id": "qDLqy8FI9FqQ",
        "outputId": "c3031f6b-1bbb-4325-8988-d1fb054e8d6b"
      },
      "execution_count": 14,
      "outputs": [
        {
          "output_type": "stream",
          "name": "stdout",
          "text": [
            "       country iso_code       date  total_vaccinations  people_vaccinated  \\\n",
            "0  Afghanistan      AFG 2021-02-22                 0.0                0.0   \n",
            "1  Afghanistan      AFG 2021-02-23                 NaN                NaN   \n",
            "2  Afghanistan      AFG 2021-02-24                 NaN                NaN   \n",
            "3  Afghanistan      AFG 2021-02-25                 NaN                NaN   \n",
            "4  Afghanistan      AFG 2021-02-26                 NaN                NaN   \n",
            "\n",
            "   people_fully_vaccinated  daily_vaccinations_raw  daily_vaccinations  \\\n",
            "0                      NaN                     NaN                 NaN   \n",
            "1                      NaN                     NaN              1367.0   \n",
            "2                      NaN                     NaN              1367.0   \n",
            "3                      NaN                     NaN              1367.0   \n",
            "4                      NaN                     NaN              1367.0   \n",
            "\n",
            "   total_vaccinations_per_hundred  people_vaccinated_per_hundred  \\\n",
            "0                             0.0                            0.0   \n",
            "1                             NaN                            NaN   \n",
            "2                             NaN                            NaN   \n",
            "3                             NaN                            NaN   \n",
            "4                             NaN                            NaN   \n",
            "\n",
            "   people_fully_vaccinated_per_hundred  daily_vaccinations_per_million  \\\n",
            "0                                  NaN                             NaN   \n",
            "1                                  NaN                            34.0   \n",
            "2                                  NaN                            34.0   \n",
            "3                                  NaN                            34.0   \n",
            "4                                  NaN                            34.0   \n",
            "\n",
            "                                            vaccines  \\\n",
            "0  Johnson&Johnson, Oxford/AstraZeneca, Pfizer/Bi...   \n",
            "1  Johnson&Johnson, Oxford/AstraZeneca, Pfizer/Bi...   \n",
            "2  Johnson&Johnson, Oxford/AstraZeneca, Pfizer/Bi...   \n",
            "3  Johnson&Johnson, Oxford/AstraZeneca, Pfizer/Bi...   \n",
            "4  Johnson&Johnson, Oxford/AstraZeneca, Pfizer/Bi...   \n",
            "\n",
            "                 source_name            source_website  diferencias  \n",
            "0  World Health Organization  https://covid19.who.int/          NaN  \n",
            "1  World Health Organization  https://covid19.who.int/          NaN  \n",
            "2  World Health Organization  https://covid19.who.int/          NaN  \n",
            "3  World Health Organization  https://covid19.who.int/          NaN  \n",
            "4  World Health Organization  https://covid19.who.int/          NaN  \n"
          ]
        }
      ]
    },
    {
      "cell_type": "code",
      "source": [
        "# h. Obtener el periodo de tiempo entre el registro con fecha mas reciente y el\n",
        "# registro con fechas mas antigua\n",
        "fecha_mas_antigua = vacunas['date'].min()\n",
        "fecha_mas_reciente = vacunas['date'].max()\n",
        "periodo_tiempo = fecha_mas_reciente - fecha_mas_antigua\n",
        "print(f\"El periodo de tiempo entre el registro con fecha mas reciente y el registro con fechas mas antigua es: {periodo_tiempo}\")"
      ],
      "metadata": {
        "colab": {
          "base_uri": "https://localhost:8080/"
        },
        "id": "p7ryw5kbBD-B",
        "outputId": "8b9beca4-4b80-4363-b000-b7067862c551"
      },
      "execution_count": 15,
      "outputs": [
        {
          "output_type": "stream",
          "name": "stdout",
          "text": [
            "El periodo de tiempo entre el registro con fecha mas reciente y el registro con fechas mas antigua es: 482 days 00:00:00\n"
          ]
        }
      ]
    },
    {
      "cell_type": "code",
      "source": [
        "# i. Crear un dataframe nuevo denominado conCantidad que contenga los datos\n",
        "# originales y una columna derivada (conVac) con la cantidad de vacunas utilizadas cada dia\n",
        "conCantidad = vacunas.copy()\n",
        "conCantidad['conVac'] = conCantidad['vaccines'].apply(lambda x: len(x.split(',')))\n",
        "print(conCantidad.head())"
      ],
      "metadata": {
        "colab": {
          "base_uri": "https://localhost:8080/"
        },
        "id": "GbQDrECYCVd0",
        "outputId": "d9a346a7-5ce0-47ad-a829-fb1d7433f516"
      },
      "execution_count": 16,
      "outputs": [
        {
          "output_type": "stream",
          "name": "stdout",
          "text": [
            "       country iso_code       date  total_vaccinations  people_vaccinated  \\\n",
            "0  Afghanistan      AFG 2021-02-22                 0.0                0.0   \n",
            "1  Afghanistan      AFG 2021-02-23                 NaN                NaN   \n",
            "2  Afghanistan      AFG 2021-02-24                 NaN                NaN   \n",
            "3  Afghanistan      AFG 2021-02-25                 NaN                NaN   \n",
            "4  Afghanistan      AFG 2021-02-26                 NaN                NaN   \n",
            "\n",
            "   people_fully_vaccinated  daily_vaccinations_raw  daily_vaccinations  \\\n",
            "0                      NaN                     NaN                 NaN   \n",
            "1                      NaN                     NaN              1367.0   \n",
            "2                      NaN                     NaN              1367.0   \n",
            "3                      NaN                     NaN              1367.0   \n",
            "4                      NaN                     NaN              1367.0   \n",
            "\n",
            "   total_vaccinations_per_hundred  people_vaccinated_per_hundred  \\\n",
            "0                             0.0                            0.0   \n",
            "1                             NaN                            NaN   \n",
            "2                             NaN                            NaN   \n",
            "3                             NaN                            NaN   \n",
            "4                             NaN                            NaN   \n",
            "\n",
            "   people_fully_vaccinated_per_hundred  daily_vaccinations_per_million  \\\n",
            "0                                  NaN                             NaN   \n",
            "1                                  NaN                            34.0   \n",
            "2                                  NaN                            34.0   \n",
            "3                                  NaN                            34.0   \n",
            "4                                  NaN                            34.0   \n",
            "\n",
            "                                            vaccines  \\\n",
            "0  Johnson&Johnson, Oxford/AstraZeneca, Pfizer/Bi...   \n",
            "1  Johnson&Johnson, Oxford/AstraZeneca, Pfizer/Bi...   \n",
            "2  Johnson&Johnson, Oxford/AstraZeneca, Pfizer/Bi...   \n",
            "3  Johnson&Johnson, Oxford/AstraZeneca, Pfizer/Bi...   \n",
            "4  Johnson&Johnson, Oxford/AstraZeneca, Pfizer/Bi...   \n",
            "\n",
            "                 source_name            source_website  conVac  \n",
            "0  World Health Organization  https://covid19.who.int/       4  \n",
            "1  World Health Organization  https://covid19.who.int/       4  \n",
            "2  World Health Organization  https://covid19.who.int/       4  \n",
            "3  World Health Organization  https://covid19.who.int/       4  \n",
            "4  World Health Organization  https://covid19.who.int/       4  \n"
          ]
        }
      ]
    },
    {
      "cell_type": "code",
      "source": [
        "\n",
        "# j. Generar un dataframe denominado antes20 con todos los registros que se\n",
        "# hayan realizado antes del 20 de diciembre de 2020\n",
        "antes20 = vacunas[vacunas['date'] < '2020-12-20']\n",
        "print(antes20.head())\n",
        "print(antes20.info())\n",
        "print(f\"El dataframe antes20 tiene {antes20.shape[0]} filas y {antes20.shape[1]} columnas\")"
      ],
      "metadata": {
        "colab": {
          "base_uri": "https://localhost:8080/"
        },
        "id": "77IMMwVGDacB",
        "outputId": "6e6473a8-9a6f-436e-8c36-7732f3bb9481"
      },
      "execution_count": 5,
      "outputs": [
        {
          "output_type": "stream",
          "name": "stdout",
          "text": [
            "      country iso_code        date  total_vaccinations  people_vaccinated  \\\n",
            "13403  Canada      CAN  2020-12-14                 5.0                5.0   \n",
            "13404  Canada      CAN  2020-12-15               727.0              727.0   \n",
            "13405  Canada      CAN  2020-12-16              3025.0             3025.0   \n",
            "13406  Canada      CAN  2020-12-17              7279.0             7279.0   \n",
            "13407  Canada      CAN  2020-12-18             11296.0            11296.0   \n",
            "\n",
            "       people_fully_vaccinated  daily_vaccinations_raw  daily_vaccinations  \\\n",
            "13403                      NaN                     NaN                 NaN   \n",
            "13404                      NaN                   722.0               722.0   \n",
            "13405                      NaN                  2298.0              1510.0   \n",
            "13406                      NaN                  4254.0              2425.0   \n",
            "13407                      NaN                  4017.0              2823.0   \n",
            "\n",
            "       total_vaccinations_per_hundred  people_vaccinated_per_hundred  \\\n",
            "13403                            0.00                           0.00   \n",
            "13404                            0.00                           0.00   \n",
            "13405                            0.01                           0.01   \n",
            "13406                            0.02                           0.02   \n",
            "13407                            0.03                           0.03   \n",
            "\n",
            "       people_fully_vaccinated_per_hundred  daily_vaccinations_per_million  \\\n",
            "13403                                  NaN                             NaN   \n",
            "13404                                  NaN                            19.0   \n",
            "13405                                  NaN                            40.0   \n",
            "13406                                  NaN                            64.0   \n",
            "13407                                  NaN                            74.0   \n",
            "\n",
            "                                                vaccines  \\\n",
            "13403  Johnson&Johnson, Moderna, Oxford/AstraZeneca, ...   \n",
            "13404  Johnson&Johnson, Moderna, Oxford/AstraZeneca, ...   \n",
            "13405  Johnson&Johnson, Moderna, Oxford/AstraZeneca, ...   \n",
            "13406  Johnson&Johnson, Moderna, Oxford/AstraZeneca, ...   \n",
            "13407  Johnson&Johnson, Moderna, Oxford/AstraZeneca, ...   \n",
            "\n",
            "                                             source_name  \\\n",
            "13403  Official data from provinces via covid19tracke...   \n",
            "13404  Official data from provinces via covid19tracke...   \n",
            "13405  Official data from provinces via covid19tracke...   \n",
            "13406  Official data from provinces via covid19tracke...   \n",
            "13407  Official data from provinces via covid19tracke...   \n",
            "\n",
            "                                          source_website  \n",
            "13403  https://covid19tracker.ca/vaccinationtracker.html  \n",
            "13404  https://covid19tracker.ca/vaccinationtracker.html  \n",
            "13405  https://covid19tracker.ca/vaccinationtracker.html  \n",
            "13406  https://covid19tracker.ca/vaccinationtracker.html  \n",
            "13407  https://covid19tracker.ca/vaccinationtracker.html  \n",
            "<class 'pandas.core.frame.DataFrame'>\n",
            "Index: 70 entries, 13403 to 82366\n",
            "Data columns (total 15 columns):\n",
            " #   Column                               Non-Null Count  Dtype  \n",
            "---  ------                               --------------  -----  \n",
            " 0   country                              70 non-null     object \n",
            " 1   iso_code                             70 non-null     object \n",
            " 2   date                                 70 non-null     object \n",
            " 3   total_vaccinations                   47 non-null     float64\n",
            " 4   people_vaccinated                    46 non-null     float64\n",
            " 5   people_fully_vaccinated              8 non-null      float64\n",
            " 6   daily_vaccinations_raw               34 non-null     float64\n",
            " 7   daily_vaccinations                   62 non-null     float64\n",
            " 8   total_vaccinations_per_hundred       47 non-null     float64\n",
            " 9   people_vaccinated_per_hundred        46 non-null     float64\n",
            " 10  people_fully_vaccinated_per_hundred  8 non-null      float64\n",
            " 11  daily_vaccinations_per_million       62 non-null     float64\n",
            " 12  vaccines                             70 non-null     object \n",
            " 13  source_name                          70 non-null     object \n",
            " 14  source_website                       70 non-null     object \n",
            "dtypes: float64(9), object(6)\n",
            "memory usage: 8.8+ KB\n",
            "None\n",
            "El dataframe antes20 tiene 70 filas y 15 columnas\n"
          ]
        }
      ]
    },
    {
      "cell_type": "code",
      "source": [
        "# k. Obtener un dataframe denominado pfizer con todos los datos registrados\n",
        "# donde se haya utilizado la vacuna Pfizer\n",
        "pfizer = vacunas[vacunas['vaccines'].str.contains('Pfizer')]\n",
        "print(pfizer.head())\n",
        "print(pfizer.info())\n",
        "print(f\"El dataframe pfizer tiene {pfizer.shape[0]} filas y {pfizer.shape[1]} columnas\")"
      ],
      "metadata": {
        "colab": {
          "base_uri": "https://localhost:8080/"
        },
        "id": "Wyx2z7JMEJA6",
        "outputId": "fea104ef-6fe3-402f-d2d5-e0489d928a64"
      },
      "execution_count": 26,
      "outputs": [
        {
          "output_type": "stream",
          "name": "stdout",
          "text": [
            "       country iso_code       date  total_vaccinations  people_vaccinated  \\\n",
            "0  Afghanistan      AFG 2021-02-22                 0.0                0.0   \n",
            "1  Afghanistan      AFG 2021-02-23                 NaN                NaN   \n",
            "2  Afghanistan      AFG 2021-02-24                 NaN                NaN   \n",
            "3  Afghanistan      AFG 2021-02-25                 NaN                NaN   \n",
            "4  Afghanistan      AFG 2021-02-26                 NaN                NaN   \n",
            "\n",
            "   people_fully_vaccinated  daily_vaccinations_raw  daily_vaccinations  \\\n",
            "0                      NaN                     NaN                 NaN   \n",
            "1                      NaN                     NaN              1367.0   \n",
            "2                      NaN                     NaN              1367.0   \n",
            "3                      NaN                     NaN              1367.0   \n",
            "4                      NaN                     NaN              1367.0   \n",
            "\n",
            "   total_vaccinations_per_hundred  people_vaccinated_per_hundred  \\\n",
            "0                             0.0                            0.0   \n",
            "1                             NaN                            NaN   \n",
            "2                             NaN                            NaN   \n",
            "3                             NaN                            NaN   \n",
            "4                             NaN                            NaN   \n",
            "\n",
            "   people_fully_vaccinated_per_hundred  daily_vaccinations_per_million  \\\n",
            "0                                  NaN                             NaN   \n",
            "1                                  NaN                            34.0   \n",
            "2                                  NaN                            34.0   \n",
            "3                                  NaN                            34.0   \n",
            "4                                  NaN                            34.0   \n",
            "\n",
            "                                            vaccines  \\\n",
            "0  Johnson&Johnson, Oxford/AstraZeneca, Pfizer/Bi...   \n",
            "1  Johnson&Johnson, Oxford/AstraZeneca, Pfizer/Bi...   \n",
            "2  Johnson&Johnson, Oxford/AstraZeneca, Pfizer/Bi...   \n",
            "3  Johnson&Johnson, Oxford/AstraZeneca, Pfizer/Bi...   \n",
            "4  Johnson&Johnson, Oxford/AstraZeneca, Pfizer/Bi...   \n",
            "\n",
            "                 source_name            source_website  \n",
            "0  World Health Organization  https://covid19.who.int/  \n",
            "1  World Health Organization  https://covid19.who.int/  \n",
            "2  World Health Organization  https://covid19.who.int/  \n",
            "3  World Health Organization  https://covid19.who.int/  \n",
            "4  World Health Organization  https://covid19.who.int/  \n",
            "<class 'pandas.core.frame.DataFrame'>\n",
            "Index: 64193 entries, 0 to 85073\n",
            "Data columns (total 15 columns):\n",
            " #   Column                               Non-Null Count  Dtype         \n",
            "---  ------                               --------------  -----         \n",
            " 0   country                              64193 non-null  object        \n",
            " 1   iso_code                             64193 non-null  object        \n",
            " 2   date                                 64193 non-null  datetime64[ns]\n",
            " 3   total_vaccinations                   37891 non-null  float64       \n",
            " 4   people_vaccinated                    36097 non-null  float64       \n",
            " 5   people_fully_vaccinated              34332 non-null  float64       \n",
            " 6   daily_vaccinations_raw               31818 non-null  float64       \n",
            " 7   daily_vaccinations                   64013 non-null  float64       \n",
            " 8   total_vaccinations_per_hundred       37891 non-null  float64       \n",
            " 9   people_vaccinated_per_hundred        36097 non-null  float64       \n",
            " 10  people_fully_vaccinated_per_hundred  34332 non-null  float64       \n",
            " 11  daily_vaccinations_per_million       64013 non-null  float64       \n",
            " 12  vaccines                             64193 non-null  object        \n",
            " 13  source_name                          64193 non-null  object        \n",
            " 14  source_website                       64193 non-null  object        \n",
            "dtypes: datetime64[ns](1), float64(9), object(5)\n",
            "memory usage: 7.8+ MB\n",
            "None\n",
            "El dataframe pfizer tiene 64193 filas y 15 columnas\n"
          ]
        }
      ]
    },
    {
      "cell_type": "code",
      "source": [
        "# i. Almacenar los dataframes generados (conDiferencias, conCantidad, antes20 y\n",
        "# pfizer) en un archivo de Excel denominado resultadosReto.xlsx, donde cada\n",
        "# dataframe ocupe una hoja diferente\n",
        "with pd.ExcelWriter('resultadosReto.xlsx') as writer:\n",
        "  conDiferencias.to_excel(writer, sheet_name='conDiferencias')\n",
        "  conCantidad.to_excel(writer, sheet_name='conCantidad')\n",
        "  antes20.to_excel(writer, sheet_name='antes20')\n",
        "  pfizer.to_excel(writer, sheet_name='pfizer')\n",
        "  print(\"Los dataframes han sido almacenados en el archivo resultadosReto.xlsx\")"
      ],
      "metadata": {
        "colab": {
          "base_uri": "https://localhost:8080/"
        },
        "id": "sLqvKBmHGhBe",
        "outputId": "f097de63-6fb2-4357-95b8-cf817057b6de"
      },
      "execution_count": 28,
      "outputs": [
        {
          "output_type": "stream",
          "name": "stdout",
          "text": [
            "Los dataframes han sido almacenados en el archivo resultadosReto.xlsx\n"
          ]
        }
      ]
    },
    {
      "cell_type": "code",
      "source": [],
      "metadata": {
        "id": "8zgytHbIIyUD"
      },
      "execution_count": null,
      "outputs": []
    }
  ]
}